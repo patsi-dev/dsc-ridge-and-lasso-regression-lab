{
  "cells": [
    {
      "cell_type": "markdown",
      "metadata": {
        "id": "SZ4a42KNZrfL"
      },
      "source": [
        "# Ridge and Lasso Regression - Lab"
      ]
    },
    {
      "cell_type": "markdown",
      "metadata": {
        "id": "nJ4PPFk5ZrfN"
      },
      "source": [
        "## Introduction"
      ]
    },
    {
      "cell_type": "markdown",
      "metadata": {
        "id": "AgR6ik2FZrfO"
      },
      "source": [
        "In this lab, you'll practice your knowledge of ridge and lasso regression!"
      ]
    },
    {
      "cell_type": "markdown",
      "metadata": {
        "id": "nUWmMAWgZrfP"
      },
      "source": [
        "## Objectives"
      ]
    },
    {
      "cell_type": "markdown",
      "metadata": {
        "id": "XRv74iuKZrfQ"
      },
      "source": [
        "In this lab you will:\n",
        "\n",
        "- Use lasso and ridge regression with scikit-learn\n",
        "- Compare and contrast lasso, ridge and non-regularized regression"
      ]
    },
    {
      "cell_type": "markdown",
      "metadata": {
        "id": "QjNaiU-eZrfR"
      },
      "source": [
        "## Housing Prices Data"
      ]
    },
    {
      "cell_type": "markdown",
      "metadata": {
        "id": "Xle9OWvSZrfR"
      },
      "source": [
        "We'll use this version of the Ames Housing dataset:"
      ]
    },
    {
      "cell_type": "code",
      "execution_count": 1,
      "metadata": {
        "id": "vZiiOJggZrfS",
        "outputId": "8162bfb0-0c60-4645-ddc6-509a1585bdaa",
        "colab": {
          "base_uri": "https://localhost:8080/"
        }
      },
      "outputs": [
        {
          "output_type": "stream",
          "name": "stdout",
          "text": [
            "<class 'pandas.core.frame.DataFrame'>\n",
            "Index: 1460 entries, 1 to 1460\n",
            "Data columns (total 80 columns):\n",
            " #   Column         Non-Null Count  Dtype  \n",
            "---  ------         --------------  -----  \n",
            " 0   MSSubClass     1460 non-null   int64  \n",
            " 1   MSZoning       1460 non-null   object \n",
            " 2   LotFrontage    1201 non-null   float64\n",
            " 3   LotArea        1460 non-null   int64  \n",
            " 4   Street         1460 non-null   object \n",
            " 5   Alley          91 non-null     object \n",
            " 6   LotShape       1460 non-null   object \n",
            " 7   LandContour    1460 non-null   object \n",
            " 8   Utilities      1460 non-null   object \n",
            " 9   LotConfig      1460 non-null   object \n",
            " 10  LandSlope      1460 non-null   object \n",
            " 11  Neighborhood   1460 non-null   object \n",
            " 12  Condition1     1460 non-null   object \n",
            " 13  Condition2     1460 non-null   object \n",
            " 14  BldgType       1460 non-null   object \n",
            " 15  HouseStyle     1460 non-null   object \n",
            " 16  OverallQual    1460 non-null   int64  \n",
            " 17  OverallCond    1460 non-null   int64  \n",
            " 18  YearBuilt      1460 non-null   int64  \n",
            " 19  YearRemodAdd   1460 non-null   int64  \n",
            " 20  RoofStyle      1460 non-null   object \n",
            " 21  RoofMatl       1460 non-null   object \n",
            " 22  Exterior1st    1460 non-null   object \n",
            " 23  Exterior2nd    1460 non-null   object \n",
            " 24  MasVnrType     588 non-null    object \n",
            " 25  MasVnrArea     1452 non-null   float64\n",
            " 26  ExterQual      1460 non-null   object \n",
            " 27  ExterCond      1460 non-null   object \n",
            " 28  Foundation     1460 non-null   object \n",
            " 29  BsmtQual       1423 non-null   object \n",
            " 30  BsmtCond       1423 non-null   object \n",
            " 31  BsmtExposure   1422 non-null   object \n",
            " 32  BsmtFinType1   1423 non-null   object \n",
            " 33  BsmtFinSF1     1460 non-null   int64  \n",
            " 34  BsmtFinType2   1422 non-null   object \n",
            " 35  BsmtFinSF2     1460 non-null   int64  \n",
            " 36  BsmtUnfSF      1460 non-null   int64  \n",
            " 37  TotalBsmtSF    1460 non-null   int64  \n",
            " 38  Heating        1460 non-null   object \n",
            " 39  HeatingQC      1460 non-null   object \n",
            " 40  CentralAir     1460 non-null   object \n",
            " 41  Electrical     1459 non-null   object \n",
            " 42  1stFlrSF       1460 non-null   int64  \n",
            " 43  2ndFlrSF       1460 non-null   int64  \n",
            " 44  LowQualFinSF   1460 non-null   int64  \n",
            " 45  GrLivArea      1460 non-null   int64  \n",
            " 46  BsmtFullBath   1460 non-null   int64  \n",
            " 47  BsmtHalfBath   1460 non-null   int64  \n",
            " 48  FullBath       1460 non-null   int64  \n",
            " 49  HalfBath       1460 non-null   int64  \n",
            " 50  BedroomAbvGr   1460 non-null   int64  \n",
            " 51  KitchenAbvGr   1460 non-null   int64  \n",
            " 52  KitchenQual    1460 non-null   object \n",
            " 53  TotRmsAbvGrd   1460 non-null   int64  \n",
            " 54  Functional     1460 non-null   object \n",
            " 55  Fireplaces     1460 non-null   int64  \n",
            " 56  FireplaceQu    770 non-null    object \n",
            " 57  GarageType     1379 non-null   object \n",
            " 58  GarageYrBlt    1379 non-null   float64\n",
            " 59  GarageFinish   1379 non-null   object \n",
            " 60  GarageCars     1460 non-null   int64  \n",
            " 61  GarageArea     1460 non-null   int64  \n",
            " 62  GarageQual     1379 non-null   object \n",
            " 63  GarageCond     1379 non-null   object \n",
            " 64  PavedDrive     1460 non-null   object \n",
            " 65  WoodDeckSF     1460 non-null   int64  \n",
            " 66  OpenPorchSF    1460 non-null   int64  \n",
            " 67  EnclosedPorch  1460 non-null   int64  \n",
            " 68  3SsnPorch      1460 non-null   int64  \n",
            " 69  ScreenPorch    1460 non-null   int64  \n",
            " 70  PoolArea       1460 non-null   int64  \n",
            " 71  PoolQC         7 non-null      object \n",
            " 72  Fence          281 non-null    object \n",
            " 73  MiscFeature    54 non-null     object \n",
            " 74  MiscVal        1460 non-null   int64  \n",
            " 75  MoSold         1460 non-null   int64  \n",
            " 76  YrSold         1460 non-null   int64  \n",
            " 77  SaleType       1460 non-null   object \n",
            " 78  SaleCondition  1460 non-null   object \n",
            " 79  SalePrice      1460 non-null   int64  \n",
            "dtypes: float64(3), int64(34), object(43)\n",
            "memory usage: 923.9+ KB\n"
          ]
        }
      ],
      "source": [
        "# Run this cell without changes\n",
        "import pandas as pd\n",
        "import warnings\n",
        "warnings.filterwarnings('ignore')\n",
        "df = pd.read_csv('housing_prices.csv', index_col=0)\n",
        "df.info()"
      ]
    },
    {
      "cell_type": "markdown",
      "metadata": {
        "id": "xaIGenP8ZrfU"
      },
      "source": [
        "More information about the features is available in the `data_description.txt` file in this repository."
      ]
    },
    {
      "cell_type": "markdown",
      "metadata": {
        "id": "Z61FNrXvZrfU"
      },
      "source": [
        "## Data Preparation\n",
        "\n",
        "The code below:\n",
        "\n",
        "* Separates the data into `X` (predictor) and `y` (target) variables\n",
        "* Splits the data into 75-25 training-test sets, with a `random_state` of 10\n",
        "* Separates each of the `X` values into continuous vs. categorical features\n",
        "* Fills in missing values (using different strategies for continuous vs. categorical features)\n",
        "* Scales continuous features to a range of 0 to 1\n",
        "* Dummy encodes categorical features\n",
        "* Combines the preprocessed continuous and categorical features back together"
      ]
    },
    {
      "cell_type": "code",
      "execution_count": 2,
      "metadata": {
        "id": "YzT5o6TyZrfW"
      },
      "outputs": [],
      "source": [
        "# Run this cell without changes\n",
        "import numpy as np\n",
        "from sklearn.impute import SimpleImputer\n",
        "from sklearn.model_selection import train_test_split\n",
        "from sklearn.preprocessing import MinMaxScaler, OneHotEncoder\n",
        "\n",
        "# Create X and y\n",
        "y = df['SalePrice']\n",
        "X = df.drop(columns=['SalePrice'])\n",
        "\n",
        "# Split data into training and test sets\n",
        "X_train, X_test, y_train, y_test = train_test_split(X, y, random_state=10)\n",
        "\n",
        "# Separate X data into continuous vs. categorical\n",
        "X_train_cont = X_train.select_dtypes(include='number')\n",
        "X_test_cont = X_test.select_dtypes(include='number')\n",
        "X_train_cat = X_train.select_dtypes(exclude='number')\n",
        "X_test_cat = X_test.select_dtypes(exclude='number')\n",
        "\n",
        "# Impute missing values using SimpleImputer, median for continuous and\n",
        "# filling in 'missing' for categorical\n",
        "impute_cont = SimpleImputer(strategy='median')\n",
        "X_train_cont = impute_cont.fit_transform(X_train_cont)\n",
        "X_test_cont = impute_cont.transform(X_test_cont)\n",
        "impute_cat = SimpleImputer(strategy='constant', fill_value='missing')\n",
        "X_train_cat = impute_cat.fit_transform(X_train_cat)\n",
        "X_test_cat = impute_cat.transform(X_test_cat)\n",
        "\n",
        "# Scale continuous values using MinMaxScaler\n",
        "scaler = MinMaxScaler()\n",
        "X_train_cont = scaler.fit_transform(X_train_cont)\n",
        "X_test_cont = scaler.transform(X_test_cont)\n",
        "\n",
        "# Dummy encode categorical values using OneHotEncoder\n",
        "ohe = OneHotEncoder(handle_unknown='ignore')\n",
        "X_train_cat = ohe.fit_transform(X_train_cat)\n",
        "X_test_cat = ohe.transform(X_test_cat)\n",
        "\n",
        "# Combine everything back together\n",
        "X_train_preprocessed = np.asarray(np.concatenate([X_train_cont, X_train_cat.todense()], axis=1))\n",
        "X_test_preprocessed = np.asarray(np.concatenate([X_test_cont, X_test_cat.todense()], axis=1))"
      ]
    },
    {
      "cell_type": "markdown",
      "metadata": {
        "id": "hmO1IjRZZrfX"
      },
      "source": [
        "## Linear Regression Model\n",
        "\n",
        "Let's use this data to build a first naive linear regression model. Fit the model on the training data (`X_train_preprocessed`), then compute the R-Squared and the MSE for both the training and test sets."
      ]
    },
    {
      "cell_type": "code",
      "execution_count": 6,
      "metadata": {
        "id": "_JAhU4pWZrfY",
        "outputId": "9ee85462-4858-4c79-d658-a858611a5f5e",
        "colab": {
          "base_uri": "https://localhost:8080/"
        }
      },
      "outputs": [
        {
          "output_type": "stream",
          "name": "stdout",
          "text": [
            "Train mse: 403055841.36378497\n",
            "Test mse: 909201300.9049035\n",
            "Train R squared: 0.9358295516109549\n",
            "Test R squared: 0.8574960937151468\n",
            "Training r^2: 0.9358295516109549\n",
            "Test r^2:     0.8574960937151468\n"
          ]
        }
      ],
      "source": [
        "# Replace None with appropriate code\n",
        "from sklearn.metrics import mean_squared_error, r2_score\n",
        "from sklearn.linear_model import LinearRegression\n",
        "\n",
        "# Fit the model\n",
        "linreg = LinearRegression()\n",
        "linreg.fit(X_train_preprocessed, y_train)\n",
        "\n",
        "# Print R2 and MSE for training and test sets\n",
        "print(f'Train mse: {mean_squared_error(y_train, linreg.predict(X_train_preprocessed))}')\n",
        "print(f'Test mse: {mean_squared_error(y_test, linreg.predict(X_test_preprocessed))}')\n",
        "print(f'Train R squared: {r2_score(y_train, linreg.predict(X_train_preprocessed))}')\n",
        "print(f'Test R squared: {r2_score(y_test, linreg.predict(X_test_preprocessed))}')"
      ]
    },
    {
      "cell_type": "markdown",
      "metadata": {
        "id": "q_SG_wx_ZrfZ"
      },
      "source": [
        "Notice the severe overfitting above; our training R-Squared is very high, but the test R-Squared is negative! Similarly, the scale of the test MSE is orders of magnitude higher than that of the training MSE."
      ]
    },
    {
      "cell_type": "markdown",
      "metadata": {
        "id": "PRH9NW3IZrfZ"
      },
      "source": [
        "## Ridge and Lasso Regression"
      ]
    },
    {
      "cell_type": "markdown",
      "metadata": {
        "id": "zx-e-9Q-Zrfa"
      },
      "source": [
        "Use all the data (scaled features and dummy categorical variables, `X_train_preprocessed`) to build some models with regularization - two each for lasso and ridge regression. Each time, look at R-Squared and MSE.\n",
        "\n",
        "Remember that you can use the scikit-learn documentation if you don't remember how to import or use these classes:\n",
        "\n",
        "* [`Lasso` documentation](https://scikit-learn.org/stable/modules/generated/sklearn.linear_model.Lasso.html)\n",
        "* [`Ridge` documentation](https://scikit-learn.org/stable/modules/generated/sklearn.linear_model.Ridge.html)"
      ]
    },
    {
      "cell_type": "markdown",
      "metadata": {
        "id": "aNe22dlbZrfa"
      },
      "source": [
        "### Lasso"
      ]
    },
    {
      "cell_type": "markdown",
      "metadata": {
        "id": "JGeyRMFYZrfb"
      },
      "source": [
        "#### With default hyperparameters (`alpha` = 1)"
      ]
    },
    {
      "cell_type": "code",
      "execution_count": 7,
      "metadata": {
        "id": "OmFQQ4IrZrfb",
        "outputId": "688a35f1-a1bd-4c48-abad-432f4e044f26",
        "colab": {
          "base_uri": "https://localhost:8080/"
        }
      },
      "outputs": [
        {
          "output_type": "stream",
          "name": "stdout",
          "text": [
            "Train mse: 403443180.2665612\n",
            "Test mse: 704367122.4118732\n",
            "Train R squared: 0.9357678834535463\n",
            "Test R squared: 0.8896008328382145\n"
          ]
        }
      ],
      "source": [
        "# Your code here\n",
        "from sklearn.linear_model import Lasso\n",
        "\n",
        "lasso = Lasso(alpha = 1)\n",
        "lasso.fit(X_train_preprocessed, y_train)\n",
        "\n",
        "print(f'Train mse: {mean_squared_error(y_train, lasso.predict(X_train_preprocessed))}')\n",
        "print(f'Test mse: {mean_squared_error(y_test, lasso.predict(X_test_preprocessed))}')\n",
        "print(f'Train R squared: {r2_score(y_train, lasso.predict(X_train_preprocessed))}')\n",
        "print(f'Test R squared: {r2_score(y_test, lasso.predict(X_test_preprocessed))}')"
      ]
    },
    {
      "cell_type": "markdown",
      "metadata": {
        "id": "GAGNrE6LZrfc"
      },
      "source": [
        "#### With a higher regularization hyperparameter (`alpha` = 10)"
      ]
    },
    {
      "cell_type": "code",
      "execution_count": 13,
      "metadata": {
        "id": "9AEcMAQOZrfc",
        "outputId": "5c0f4d27-0a69-45e8-a0c8-22b01dc1f5d3",
        "colab": {
          "base_uri": "https://localhost:8080/"
        }
      },
      "outputs": [
        {
          "output_type": "stream",
          "name": "stdout",
          "text": [
            "Train mse: 414404517.191667\n",
            "Test mse: 650157273.4932035\n",
            "Train R squared: 0.9340227309628953\n",
            "Test R squared: 0.8980974278412501\n"
          ]
        }
      ],
      "source": [
        "# Your code here\n",
        "from sklearn.linear_model import Lasso\n",
        "\n",
        "lasso = Lasso(alpha = 10)\n",
        "lasso.fit(X_train_preprocessed, y_train)\n",
        "\n",
        "print(f'Train mse: {mean_squared_error(y_train, lasso.predict(X_train_preprocessed))}')\n",
        "print(f'Test mse: {mean_squared_error(y_test, lasso.predict(X_test_preprocessed))}')\n",
        "print(f'Train R squared: {r2_score(y_train, lasso.predict(X_train_preprocessed))}')\n",
        "print(f'Test R squared: {r2_score(y_test, lasso.predict(X_test_preprocessed))}')"
      ]
    },
    {
      "cell_type": "markdown",
      "metadata": {
        "id": "TAatQxcWZrfc"
      },
      "source": [
        "## Ridge"
      ]
    },
    {
      "cell_type": "markdown",
      "metadata": {
        "id": "CmImfIHTZrfd"
      },
      "source": [
        "#### With default hyperparameters (`alpha` = 1)"
      ]
    },
    {
      "cell_type": "code",
      "execution_count": 9,
      "metadata": {
        "id": "sjSv1ZQbZrfd",
        "outputId": "e71106b2-63b7-4b82-b434-bac127202cfc",
        "colab": {
          "base_uri": "https://localhost:8080/"
        }
      },
      "outputs": [
        {
          "output_type": "stream",
          "name": "stdout",
          "text": [
            "Train mse: 497616506.0742807\n",
            "Test mse: 724504516.4583946\n",
            "Train R squared: 0.9207745651011281\n",
            "Test R squared: 0.8864445930581234\n"
          ]
        }
      ],
      "source": [
        "# Your code here\n",
        "from sklearn.linear_model import Ridge\n",
        "\n",
        "ridge = Ridge(alpha = 1)\n",
        "ridge.fit(X_train_preprocessed, y_train)\n",
        "\n",
        "print(f'Train mse: {mean_squared_error(y_train, ridge.predict(X_train_preprocessed))}')\n",
        "print(f'Test mse: {mean_squared_error(y_test, ridge.predict(X_test_preprocessed))}')\n",
        "print(f'Train R squared: {r2_score(y_train, ridge.predict(X_train_preprocessed))}')\n",
        "print(f'Test R squared: {r2_score(y_test, ridge.predict(X_test_preprocessed))}')"
      ]
    },
    {
      "cell_type": "markdown",
      "metadata": {
        "id": "ie0-hzccZrfe"
      },
      "source": [
        "#### With higher regularization hyperparameter (`alpha` = 10)"
      ]
    },
    {
      "cell_type": "code",
      "execution_count": 14,
      "metadata": {
        "id": "Agh9WNOfZrfe",
        "outputId": "2242ab21-9699-48ce-d27b-35ebfb93d6b3",
        "colab": {
          "base_uri": "https://localhost:8080/"
        }
      },
      "outputs": [
        {
          "output_type": "stream",
          "name": "stdout",
          "text": [
            "Train mse: 697520320.9975771\n",
            "Test mse: 768710500.2896657\n",
            "Train R squared: 0.8889479144938477\n",
            "Test R squared: 0.8795159564945247\n"
          ]
        }
      ],
      "source": [
        "# Your code here\n",
        "# Your code here\n",
        "from sklearn.linear_model import Ridge\n",
        "\n",
        "ridge = Ridge(alpha = 10)\n",
        "ridge.fit(X_train_preprocessed, y_train)\n",
        "\n",
        "print(f'Train mse: {mean_squared_error(y_train, ridge.predict(X_train_preprocessed))}')\n",
        "print(f'Test mse: {mean_squared_error(y_test, ridge.predict(X_test_preprocessed))}')\n",
        "print(f'Train R squared: {r2_score(y_train, ridge.predict(X_train_preprocessed))}')\n",
        "print(f'Test R squared: {r2_score(y_test, ridge.predict(X_test_preprocessed))}')"
      ]
    },
    {
      "cell_type": "markdown",
      "metadata": {
        "id": "18hBrcBTZrfe"
      },
      "source": [
        "## Comparing the Metrics    \n",
        "\n",
        "Which model seems best, based on the metrics?"
      ]
    },
    {
      "cell_type": "code",
      "execution_count": 16,
      "metadata": {
        "id": "Hw0V_4IhZrff"
      },
      "outputs": [],
      "source": [
        "# Write your conclusions here:\n",
        "# In terms of both R-Squared and MSE, the Lasso model with alpha=10 has the best metric results.\n",
        "# (Remember that better R-Squared is higher, whereas better MSE is lower.)"
      ]
    },
    {
      "cell_type": "markdown",
      "metadata": {
        "id": "k0wDb3fgZrff"
      },
      "source": [
        "<details>\n",
        "    <summary style=\"cursor: pointer\"><b>Answer (click to reveal)</b></summary>\n",
        "\n",
        "In terms of both R-Squared and MSE, the `Lasso` model with `alpha`=10 has the best metric results.\n",
        "\n",
        "(Remember that better R-Squared is higher, whereas better MSE is lower.)\n",
        "\n",
        "</details>"
      ]
    },
    {
      "cell_type": "markdown",
      "metadata": {
        "id": "NhY4qA1IZrfg"
      },
      "source": [
        "## Comparing the Parameters\n",
        "\n",
        "Compare the number of parameter estimates that are (very close to) 0 for the `Ridge` and `Lasso` models with `alpha`=10.\n",
        "\n",
        "Use 10**(-10) as an estimate that is very close to 0."
      ]
    },
    {
      "cell_type": "code",
      "execution_count": null,
      "metadata": {
        "id": "j-zAJDJaZrfg"
      },
      "outputs": [],
      "source": [
        "# Number of Ridge params almost zero\n"
      ]
    },
    {
      "cell_type": "code",
      "execution_count": null,
      "metadata": {
        "id": "KnKIg79VZrfh"
      },
      "outputs": [],
      "source": [
        "# Number of Lasso params almost zero\n"
      ]
    },
    {
      "cell_type": "code",
      "execution_count": null,
      "metadata": {
        "id": "Ai5YyA-UZrfh"
      },
      "outputs": [],
      "source": [
        "# Compare and interpret these results\n"
      ]
    },
    {
      "cell_type": "markdown",
      "metadata": {
        "id": "3GqXJYF9Zrfi"
      },
      "source": [
        "<details>\n",
        "    <summary style=\"cursor: pointer\"><b>Answer (click to reveal)</b></summary>\n",
        "\n",
        "The ridge model did not penalize any coefficients to 0, while the lasso model removed about 1/4 of the coefficients. The lasso model essentially performed variable selection for us, and got the best metrics as a result!\n",
        "\n",
        "</details>"
      ]
    },
    {
      "cell_type": "markdown",
      "metadata": {
        "id": "S1Pcb_5bZrfi"
      },
      "source": [
        "## Finding an Optimal Alpha\n",
        "\n",
        "Earlier we tested two values of `alpha` to see how it affected our MSE and the value of our coefficients. We could continue to guess values of `alpha` for our ridge or lasso regression one at a time to see which values minimize our loss, or we can test a range of values and pick the alpha which minimizes our MSE. Here is an example of how we would do this:  "
      ]
    },
    {
      "cell_type": "code",
      "execution_count": 17,
      "metadata": {
        "id": "ZOJaYlsmZrfj",
        "outputId": "8d7d4cb5-7a50-42ed-fa6d-145d87a97d0a",
        "colab": {
          "base_uri": "https://localhost:8080/",
          "height": 482
        }
      },
      "outputs": [
        {
          "output_type": "stream",
          "name": "stdout",
          "text": [
            "Optimal Alpha Value: 28\n"
          ]
        },
        {
          "output_type": "display_data",
          "data": {
            "text/plain": [
              "<Figure size 640x480 with 1 Axes>"
            ],
            "image/png": "[encoded data removed]"
          },
          "metadata": {}
        }
      ],
      "source": [
        "# Run this cell without changes\n",
        "import matplotlib.pyplot as plt\n",
        "%matplotlib inline\n",
        "\n",
        "train_mse = []\n",
        "test_mse = []\n",
        "alphas = np.linspace(0, 200, num=50)\n",
        "\n",
        "for alpha in alphas:\n",
        "    lasso = Lasso(alpha=alpha)\n",
        "    lasso.fit(X_train_preprocessed, y_train)\n",
        "\n",
        "    train_preds = lasso.predict(X_train_preprocessed)\n",
        "    train_mse.append(mean_squared_error(y_train, train_preds))\n",
        "\n",
        "    test_preds = lasso.predict(X_test_preprocessed)\n",
        "    test_mse.append(mean_squared_error(y_test, test_preds))\n",
        "\n",
        "fig, ax = plt.subplots()\n",
        "ax.plot(alphas, train_mse, label='Train')\n",
        "ax.plot(alphas, test_mse, label='Test')\n",
        "ax.set_xlabel('alpha')\n",
        "ax.set_ylabel('MSE')\n",
        "\n",
        "# np.argmin() returns the index of the minimum value in a list\n",
        "optimal_alpha = alphas[np.argmin(test_mse)]\n",
        "\n",
        "# Add a vertical line where the test MSE is minimized\n",
        "ax.axvline(optimal_alpha, color='black', linestyle='--')\n",
        "ax.legend();\n",
        "\n",
        "print(f'Optimal Alpha Value: {int(optimal_alpha)}')"
      ]
    },
    {
      "cell_type": "markdown",
      "metadata": {
        "id": "kyn4YYJcZrfk"
      },
      "source": [
        "Take a look at this graph of our training and test MSE against `alpha`. Try to explain to yourself why the shapes of the training and test curves are this way. Make sure to think about what `alpha` represents and how it relates to overfitting vs underfitting.\n",
        "\n",
        "---\n",
        "\n",
        "<details>\n",
        "    <summary style=\"cursor: pointer\"><b>Answer (click to reveal)</b></summary>\n",
        "\n",
        "For `alpha` values below 28, the model is overfitting. As `alpha` increases up to 28, the MSE for the training data increases and MSE for the test data decreases, indicating that we are reducing overfitting.\n",
        "\n",
        "For `alpha` values above 28, the model is starting to underfit. You can tell because _both_ the train and the test MSE values are increasing.\n",
        "\n",
        "</details>"
      ]
    },
    {
      "cell_type": "markdown",
      "metadata": {
        "id": "IR5tfwG_Zrfk"
      },
      "source": [
        "## Summary\n",
        "\n",
        "Well done! You now know how to build lasso and ridge regression models, use them for feature selection and find an optimal value for `alpha`."
      ]
    }
  ],
  "metadata": {
    "kernelspec": {
      "display_name": "Python (learn-env)",
      "language": "python",
      "name": "learn-env"
    },
    "language_info": {
      "codemirror_mode": {
        "name": "ipython",
        "version": 3
      },
      "file_extension": ".py",
      "mimetype": "text/x-python",
      "name": "python",
      "nbconvert_exporter": "python",
      "pygments_lexer": "ipython3",
      "version": "3.9.16"
    },
    "colab": {
      "provenance": []
    }
  },
  "nbformat": 4,
  "nbformat_minor": 0
}